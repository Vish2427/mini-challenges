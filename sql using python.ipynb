{
 "cells": [
  {
   "cell_type": "code",
   "execution_count": 1,
   "id": "5676b67a",
   "metadata": {},
   "outputs": [
    {
     "name": "stdout",
     "output_type": "stream",
     "text": [
      "Enter host name localhost\n",
      "Enter user name root\n",
      "Password = ········\n",
      "Enter database name vish\n",
      "Enter file name carbon_nanotubes.csv\n",
      "Enter table name fact\n"
     ]
    }
   ],
   "source": [
    "import mysql.connector as connecting\n",
    "import csv\n",
    "import logging as lg\n",
    "import getpass\n",
    "import os\n",
    "os.chdir('Downloads')\n",
    "\n",
    "host=input('Enter host name ')\n",
    "user=input('Enter user name ')\n",
    "pw=getpass.getpass('Password = ')\n",
    "d_b=input('Enter database name ')\n",
    "filename=input('Enter file name ')\n",
    "table_name=input('Enter table name ')\n",
    "\n",
    "def data_base(host,user,pw,d_b,filename,table_name):\n",
    "    \n",
    "    mydb=connecting.connect(host=host , user=user, passwd=pw , use_pure=True)\n",
    "    cur=mydb.cursor()\n",
    "    cur.execute(f\"CREATE DATABASE {d_b}\")\n",
    "    cur.execute(f\"USE {d_b}\")\n",
    "    with open (filename,'r') as f:\n",
    "        file_csv=csv.reader(f ,delimiter ='\\n')\n",
    "        column=next(f).replace(';',',').replace(\"'\",'').replace('\\n','').replace(\" \",'_')\n",
    "        cl=column.split(',')\n",
    "        const= ('int (5).'*2+'float(8,6).'*5+'float(8,6)').split('.')\n",
    "        attribute = ''\n",
    "        for i in range(len(cl)):\n",
    "            attribute = attribute+cl[i]+' '+const[i]+','\n",
    "        cur.execute(f\"\"\"CREATE TABLE {table_name} ({attribute[:-1]})\"\"\")\n",
    "        \n",
    "        for i in file_csv: \n",
    "            \n",
    "            r=i[0].replace(',','.').replace(';',',')\n",
    "        \n",
    "           \n",
    "            cur.execute(f\"INSERT INTO {table_name} VALUES ({r})\")\n",
    "        \n",
    "    mydb.commit()\n",
    "    \n",
    "data_base(host,user,pw,d_b,filename,table_name) "
   ]
  },
  {
   "cell_type": "code",
   "execution_count": null,
   "id": "6d960792",
   "metadata": {},
   "outputs": [],
   "source": []
  },
  {
   "cell_type": "code",
   "execution_count": null,
   "id": "16b98974",
   "metadata": {},
   "outputs": [],
   "source": []
  }
 ],
 "metadata": {
  "kernelspec": {
   "display_name": "Python 3 (ipykernel)",
   "language": "python",
   "name": "python3"
  },
  "language_info": {
   "codemirror_mode": {
    "name": "ipython",
    "version": 3
   },
   "file_extension": ".py",
   "mimetype": "text/x-python",
   "name": "python",
   "nbconvert_exporter": "python",
   "pygments_lexer": "ipython3",
   "version": "3.9.7"
  }
 },
 "nbformat": 4,
 "nbformat_minor": 5
}
